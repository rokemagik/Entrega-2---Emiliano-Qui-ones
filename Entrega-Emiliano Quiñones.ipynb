{
  "metadata": {
    "kernelspec": {
      "name": "xpython",
      "display_name": "Python 3.13 (XPython)",
      "language": "python"
    },
    "language_info": {
      "file_extension": ".py",
      "mimetype": "text/x-python",
      "name": "python",
      "version": "3.13.1"
    }
  },
  "nbformat_minor": 5,
  "nbformat": 4,
  "cells": [
    {
      "id": "e3ab92c4-935a-4b1e-9560-383dcb61004e",
      "cell_type": "markdown",
      "source": "# Fast Prompting - ArtePad\nEste notebook muestra una demo simple. Mostrando la diferencia entre un prompt mas largo, y uno mas condensado. En ambos se espera una respuesta completa, lo cual nos permite ver que, con menos, podemos obtener los mismos resultados",
      "metadata": {}
    },
    {
      "id": "50eec114-eed4-4ae2-a343-e24a137aadf6",
      "cell_type": "markdown",
      "source": "## Ejemplo 1 - Prompt Normal\nAqui hay un ejemplo de un prompt largo",
      "metadata": {}
    },
    {
      "id": "4a7f621e-4f1e-47db-91f9-b282f3520f32",
      "cell_type": "code",
      "source": "prompt = \"\"\"\nEres un asistente de ArtPads: El cliente pregunta “¿Cuanto cuesta un mousepad grande”. Formula la respuesta utilizando los siguientes datos:\n[Pequeño: 30x25 $4000\nMediano: 60x30 $6500\nGrande: 90x40 $9000]\nResponde de manera cordial y profesional\n\n\"\"\"\n\nrespuesta = \"El mousepad grande (90x40 cm) cuesta $9000.\"\nprint(\"Prompt enviado:\", prompt)\nprint(\"Respuesta IA:\", respuesta)",
      "metadata": {
        "trusted": true
      },
      "outputs": [],
      "execution_count": null
    },
    {
      "id": "20a7f70b-2228-4580-9cea-7545a25ac912",
      "cell_type": "markdown",
      "source": "## Ejemplo 2 - Prompt Optimizado (Fast Prompting)\nLuego, tenemos un ejemplo mas corto, pero que desemboca a la misma respuesta",
      "metadata": {}
    },
    {
      "id": "6fb38924-47e3-4b55-88c5-674024fde49b",
      "cell_type": "code",
      "source": "prompt = \"\"\"\nAsistente ArtePad.\nCatálogo: P 30x25 $4000 | M 60x30 $6500 | G 90x40 $9000.\nCliente: \"Precio del grande?\"\nRespuesta breve:\n\"\"\"\n\nrespuesta = \"El grande (90x40 cm) cuesta $9000.\"\nprint(\"Prompt enviado:\", prompt)\nprint(\"Respuesta IA:\", respuesta)",
      "metadata": {
        "trusted": true
      },
      "outputs": [],
      "execution_count": null
    },
    {
      "id": "56f4ad8c-dd6c-4851-8ab0-28fe56bd8ac9",
      "cell_type": "markdown",
      "source": "# Ejemplo Texto --> Imagen\nA continuación, hacemos lo mismo que antes pero viendo la generacion de imágenes",
      "metadata": {}
    },
    {
      "id": "9ebed3ef-c74a-4101-9cc2-89a9f9fc088c",
      "cell_type": "markdown",
      "source": "## Ejemplo 1 - Prompt largo",
      "metadata": {}
    },
    {
      "id": "d1573b69-c2c3-4505-92c1-a7e318814589",
      "cell_type": "code",
      "source": "cliente_input = \"Quiero un mousepad con un dragón chino rojo saliendo de unas nubes\"\n\nprompt_largo = f\"\"\"\nEres un asistente de ArtePad. El cliente quiere un diseño de mousepad.\nConvierte la descripción en un prompt descriptivo para una IA de imágenes (por ejemplo Stable Diffusion o MidJourney).\nLa descripción del cliente es: \"{cliente_input}\"\n\nIncluye detalles de estilo, colores y realismo artístico.\n\"\"\"\n\n# Simulamos la \"respuesta de la IA\" (lo que devolvería ChatGPT antes de pasarlo al generador de imágenes)\nrespuesta = \"Un dragón chino rojo con escamas brillantes emergiendo de nubes blancas, estilo ilustración digital detallada, fondo oscuro, arte épico.\"\n\nprint(\"Prompt enviado:\\n\", prompt_largo)\nprint(\"\\nRespuesta IA (prompt final para la imagen):\\n\", respuesta)",
      "metadata": {
        "trusted": true
      },
      "outputs": [],
      "execution_count": null
    },
    {
      "id": "6c6989ea-ffac-44f9-a633-25ff083fab77",
      "cell_type": "markdown",
      "source": "## Ejemplo 2 - Fast Prompting",
      "metadata": {}
    },
    {
      "id": "39484379-d978-4783-bbe2-b014c65d7414",
      "cell_type": "code",
      "source": "cliente_input = \"Quiero un mousepad con un dragón chino rojo saliendo de unas nubes\"\n\nprompt_fast = f\"\"\"\nTransforma en prompt para IA de imágenes:\n{cliente_input}\n\"\"\"\n\nrespuesta_fast = \"Dragón chino rojo emergiendo de nubes blancas, ilustración digital épica, estilo detallado.\"\n\nprint(\"Prompt enviado (Fast):\\n\", prompt_fast)\nprint(\"\\nRespuesta IA (prompt final para la imagen):\\n\", respuesta_fast)",
      "metadata": {
        "trusted": true
      },
      "outputs": [],
      "execution_count": null
    }
  ]
}